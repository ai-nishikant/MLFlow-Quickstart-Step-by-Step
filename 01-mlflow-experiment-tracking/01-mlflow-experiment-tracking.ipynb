{
 "cells": [
  {
   "cell_type": "markdown",
   "metadata": {},
   "source": [
    "# Step-by-Step Experiment Tracking with MLflow"
   ]
  },
  {
   "cell_type": "markdown",
   "metadata": {},
   "source": [
    "This notebook demonstrates how to use MLflow for tracking machine learning experiments, following the guide \"Step-by-Step Guide to Experiment Tracking with MLflow for Beginners.\n"
   ]
  },
  {
   "cell_type": "markdown",
   "metadata": {},
   "source": [
    "## Import Required Libraries\n",
    "First, we need to import necessary libraries, including MLflow and Scikit-Learn components."
   ]
  },
  {
   "cell_type": "code",
   "execution_count": null,
   "metadata": {},
   "outputs": [],
   "source": [
    "import mlflow\n",
    "import mlflow.sklearn\n",
    "from sklearn.datasets import fetch_california_housing\n",
    "from sklearn.ensemble import RandomForestRegressor\n",
    "from sklearn.model_selection import train_test_split\n",
    "from sklearn.metrics import mean_squared_error"
   ]
  },
  {
   "cell_type": "markdown",
   "metadata": {},
   "source": [
    "## Setting the Tracking URI\n",
    "\n",
    "To keep track of our machine learning experiments neatly, we need a designated folder structure. As a first step, we create a folder named 'mlflow' right where we're currently working. This folder will hold all the important data and results from our experiments"
   ]
  },
  {
   "cell_type": "code",
   "execution_count": 8,
   "metadata": {},
   "outputs": [],
   "source": [
    "mlflow.set_tracking_uri(\"file:mlflow\")"
   ]
  },
  {
   "cell_type": "markdown",
   "metadata": {},
   "source": [
    "# Setting an Experiment"
   ]
  },
  {
   "cell_type": "code",
   "execution_count": 9,
   "metadata": {},
   "outputs": [
    {
     "name": "stderr",
     "output_type": "stream",
     "text": [
      "2024/03/19 22:44:53 INFO mlflow.tracking.fluent: Experiment with name 'my_first_experiment' does not exist. Creating a new experiment.\n"
     ]
    },
    {
     "data": {
      "text/plain": [
       "<Experiment: artifact_location='file:///g:/Nishi_2023/nishikant-code-repos/MLflow-Blog-series/MLFlow-Quickstart-Step-by-Step-InDevelopment/mlflow/974063106414886512', creation_time=1710868493327, experiment_id='974063106414886512', last_update_time=1710868493327, lifecycle_stage='active', name='my_first_experiment', tags={}>"
      ]
     },
     "execution_count": 9,
     "metadata": {},
     "output_type": "execute_result"
    }
   ],
   "source": [
    "mlflow.set_experiment(\"my_first_experiment\")"
   ]
  },
  {
   "cell_type": "markdown",
   "metadata": {},
   "source": [
    "## Load and Prepare the Dataset\n",
    "We use the California Housing dataset for this demonstration."
   ]
  },
  {
   "cell_type": "code",
   "execution_count": 10,
   "metadata": {},
   "outputs": [],
   "source": [
    "# Load California Housing dataset\n",
    "data = fetch_california_housing()\n",
    "X = data.data\n",
    "y = data.target"
   ]
  },
  {
   "cell_type": "markdown",
   "metadata": {},
   "source": [
    "## Splitting the Dataset\n",
    "The dataset is split into training and testing sets."
   ]
  },
  {
   "cell_type": "code",
   "execution_count": 11,
   "metadata": {},
   "outputs": [],
   "source": [
    "# Split the dataset into train and test sets\n",
    "X_train, X_test, y_train, y_test = train_test_split(X, y, test_size=0.3, random_state=42)"
   ]
  },
  {
   "cell_type": "markdown",
   "metadata": {},
   "source": [
    "## Define Parameters for the Model\n",
    "Setting the parameters for the Random Forest model."
   ]
  },
  {
   "cell_type": "code",
   "execution_count": 12,
   "metadata": {},
   "outputs": [],
   "source": [
    "# Parameters for Random Forest\n",
    "params = {\n",
    "    \"n_estimators\": 100,\n",
    "    \"max_depth\": 6,\n",
    "    \"random_state\": 42\n",
    "}"
   ]
  },
  {
   "cell_type": "markdown",
   "metadata": {},
   "source": [
    "## MLflow Tracking\n",
    "This section demonstrates the experiment tracking capabilities of MLflow."
   ]
  },
  {
   "cell_type": "markdown",
   "metadata": {},
   "source": [
    "### Start an MLflow Run\n",
    "Each experiment run is encapsulated in an MLflow run."
   ]
  },
  {
   "cell_type": "code",
   "execution_count": 14,
   "metadata": {},
   "outputs": [],
   "source": [
    "# Start an MLflow run\n",
    "with mlflow.start_run():\n",
    "    # Log parameters\n",
    "    # Logging the parameters of the model helps in tracking and reproducing experiments.\n",
    "    mlflow.log_params(params)\n",
    "    \n",
    "    # Train the Model\n",
    "    # Here, we train a Random Forest Regressor model.\n",
    "    # Train a Random Forest model\n",
    "    model = RandomForestRegressor(**params)\n",
    "    model.fit(X_train, y_train)\n",
    "\n",
    "    # Predict and Calculate MSE\n",
    "    # We make predictions and calculate the Mean Squared Error (MSE) as a metric.\n",
    "    predictions = model.predict(X_test)\n",
    "    mse = mean_squared_error(y_test, predictions)\n",
    "    \n",
    "    # Log Metrics\n",
    "    # Logging metrics such as MSE to MLflow.\n",
    "    mlflow.log_metric(\"mse\", mse)\n",
    "    \n",
    "    # Log the Model\n",
    "    # Saving the trained model in MLflow.\n",
    "    mlflow.sklearn.log_model(model, \"model\")\n",
    "    \n",
    "    # Finish the Run\n",
    "    # The run concludes automatically at the end of the `with` block."
   ]
  },
  {
   "cell_type": "markdown",
   "metadata": {},
   "source": [
    "### MLflow UI\n",
    "To view the experiment results, use the MLflow UI by running `mlflow server --backend-store-uri file:mlflow ` in the command line and visiting http://127.0.0.1:5000 in a web browser.\n"
   ]
  }
 ],
 "metadata": {
  "kernelspec": {
   "display_name": "venv",
   "language": "python",
   "name": "python3"
  },
  "language_info": {
   "codemirror_mode": {
    "name": "ipython",
    "version": 3
   },
   "file_extension": ".py",
   "mimetype": "text/x-python",
   "name": "python",
   "nbconvert_exporter": "python",
   "pygments_lexer": "ipython3",
   "version": "3.11.5"
  }
 },
 "nbformat": 4,
 "nbformat_minor": 2
}
